{
 "cells": [
  {
   "cell_type": "markdown",
   "metadata": {},
   "source": [
    "# Black-Scholes-Merton\n",
    "\n",
    "Underlying Price (S): The current market price of the asset.\n",
    "\n",
    "Strike Price (K): The predetermined price at which the option can be exercised.\n",
    "\n",
    "Time to Expiration (T): The time left (in years) until the option’s expiration date.\n",
    "\n",
    "Risk Free Rate (r): The constant rate of return on a risk-free asset, such as a government bond.\n",
    "\n",
    "Volatility (σ): A measure of how much the price of the underlying asset fluctuates.\n",
    "\n"
   ]
  },
  {
   "cell_type": "code",
   "execution_count": 3,
   "metadata": {},
   "outputs": [],
   "source": [
    "import math\n",
    "from scipy.stats import norm"
   ]
  },
  {
   "cell_type": "code",
   "execution_count": 4,
   "metadata": {},
   "outputs": [],
   "source": [
    "# Step 2: Define the Variables\n",
    "\n",
    "S = 45  # Underlying Price\n",
    "K = 40  # Strike Price\n",
    "T = 2   # Time to Expiration\n",
    "r = 0.1 # Risk-Free Rate\n",
    "vol = 0.1 # Volatility (σ)"
   ]
  },
  {
   "cell_type": "code",
   "execution_count": 5,
   "metadata": {},
   "outputs": [],
   "source": [
    "# Step 3: Calculate d1\n",
    "\n",
    "d1 = (math.log(S/K) + (r + 0.5 * vol**2)*T ) / (vol * math.sqrt(T))\n"
   ]
  },
  {
   "cell_type": "code",
   "execution_count": 6,
   "metadata": {},
   "outputs": [],
   "source": [
    "# Step 4: Calculate d2\n",
    "\n",
    "d2 = d1 - (vol * math.sqrt(T))\n"
   ]
  },
  {
   "cell_type": "code",
   "execution_count": 7,
   "metadata": {},
   "outputs": [],
   "source": [
    "# Step 5: Calculate Call Option Price\n",
    "\n",
    "\n",
    "C = S * norm.cdf(d1) - K * math.exp(-r * T) * norm.cdf(d2)\n"
   ]
  },
  {
   "cell_type": "code",
   "execution_count": 8,
   "metadata": {},
   "outputs": [],
   "source": [
    "# Step 6: Calculate Put Option Price\n",
    "\n",
    "P = K * math.exp(-r * T) * norm.cdf(-d2) - S * norm.cdf(-d1)\n"
   ]
  },
  {
   "cell_type": "code",
   "execution_count": 9,
   "metadata": {},
   "outputs": [
    {
     "name": "stdout",
     "output_type": "stream",
     "text": [
      "The value of d1 is:  2.3178\n",
      "The value of d2 is:  2.1764\n",
      "The price of the call option is: $ 12.27\n",
      "The price of the put option is: $ 0.02\n"
     ]
    }
   ],
   "source": [
    "# Step 7: Print the Results\n",
    "\n",
    "print('The value of d1 is: ', round(d1, 4))\n",
    "print('The value of d2 is: ', round(d2, 4))\n",
    "print('The price of the call option is: $', round(C, 2))\n",
    "print('The price of the put option is: $', round(P, 2))\n"
   ]
  }
 ],
 "metadata": {
  "kernelspec": {
   "display_name": "my-python3-kernel",
   "language": "python",
   "name": "my-python3-kernel"
  },
  "language_info": {
   "codemirror_mode": {
    "name": "ipython",
    "version": 3
   },
   "file_extension": ".py",
   "mimetype": "text/x-python",
   "name": "python",
   "nbconvert_exporter": "python",
   "pygments_lexer": "ipython3",
   "version": "3.11.8"
  }
 },
 "nbformat": 4,
 "nbformat_minor": 2
}
